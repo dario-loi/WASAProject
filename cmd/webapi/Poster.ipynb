{
 "cells": [
  {
   "cell_type": "code",
   "execution_count": 1,
   "metadata": {},
   "outputs": [],
   "source": [
    "import json\n",
    "import requests"
   ]
  },
  {
   "cell_type": "code",
   "execution_count": null,
   "metadata": {},
   "outputs": [],
   "source": [
    "address = 'http://localhost:5000'\n",
    "\n",
    "try:\n",
    "    ret = requests.post(f'{address}/api/Poster', json={\"data\" : \"Hello World!\"})\n",
    "except:\n",
    "    print(f\"Error while querying {address}/api/Poster\")\n",
    "\n",
    "print(ret)"
   ]
  },
  {
   "cell_type": "code",
   "execution_count": 12,
   "metadata": {},
   "outputs": [
    {
     "name": "stdout",
     "output_type": "stream",
     "text": [
      "<Response [200]>\n",
      "{'hash': 'JTOH6GIO4YlsdoCXgkBuE5vONYYKqg1hmRllMZug3DI='}\n"
     ]
    }
   ],
   "source": [
    "address = 'http://localhost:3000'\n",
    "\n",
    "try:\n",
    "    ret = requests.put(f'{address}/session', json={\"username-string\" : \"Andrea\"})\n",
    "except:\n",
    "    print(f\"Error while querying {address}/api/Poster\")\n",
    "\n",
    "print(ret)\n",
    "\n",
    "print(ret.json())"
   ]
  }
 ],
 "metadata": {
  "kernelspec": {
   "display_name": "Python 3.8.8 ('base')",
   "language": "python",
   "name": "python3"
  },
  "language_info": {
   "codemirror_mode": {
    "name": "ipython",
    "version": 3
   },
   "file_extension": ".py",
   "mimetype": "text/x-python",
   "name": "python",
   "nbconvert_exporter": "python",
   "pygments_lexer": "ipython3",
   "version": "3.8.8 (default, Apr 13 2021, 15:08:03) [MSC v.1916 64 bit (AMD64)]"
  },
  "orig_nbformat": 4,
  "vscode": {
   "interpreter": {
    "hash": "91f6a04488c6f6c893277af113acfe6c1e243656720881e8cb90c9c6953cd34f"
   }
  }
 },
 "nbformat": 4,
 "nbformat_minor": 2
}
