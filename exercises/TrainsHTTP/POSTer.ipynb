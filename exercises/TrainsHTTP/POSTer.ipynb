{
 "cells": [
  {
   "cell_type": "code",
   "execution_count": 4,
   "metadata": {},
   "outputs": [],
   "source": [
    "import json\n",
    "\n",
    "with open(\"in.json\", 'r') as f:\n",
    "        data = json.load(f)\n"
   ]
  },
  {
   "cell_type": "code",
   "execution_count": 5,
   "metadata": {},
   "outputs": [
    {
     "name": "stdout",
     "output_type": "stream",
     "text": [
      "{'total-distance': 116, 'total-ETA': 36, 'arrival-time': '2022-11-02T09:36:00Z', 'number-stops': 6}\n"
     ]
    }
   ],
   "source": [
    "import requests\n",
    "resp = requests.post(\"http://localhost:8080\", json=data, headers={\"Content-Type\": \"application/json\"}, timeout=1)\n",
    "\n",
    "print(resp.json())"
   ]
  },
  {
   "cell_type": "code",
   "execution_count": 7,
   "metadata": {},
   "outputs": [
    {
     "name": "stdout",
     "output_type": "stream",
     "text": [
      "4\n",
      "4\n",
      "5\n",
      "1\n",
      "3\n",
      "3\n",
      "4\n",
      "3\n",
      "4\n",
      "1\n",
      "6\n",
      "6\n",
      "1\n",
      "3\n",
      "3\n",
      "5\n",
      "4\n",
      "5\n",
      "1\n",
      "6\n",
      "1\n",
      "6\n",
      "6\n",
      "1\n",
      "5\n",
      "1\n",
      "3\n",
      "2\n",
      "1\n",
      "2\n",
      "1\n",
      "6\n",
      "5\n",
      "1\n",
      "5\n",
      "4\n",
      "4\n",
      "2\n",
      "3\n",
      "5\n",
      "2\n",
      "6\n",
      "6\n",
      "5\n",
      "5\n",
      "2\n",
      "4\n",
      "1\n",
      "3\n",
      "3\n",
      "5\n",
      "4\n",
      "5\n",
      "6\n",
      "6\n",
      "6\n",
      "4\n",
      "4\n",
      "2\n",
      "6\n",
      "6\n",
      "3\n",
      "4\n",
      "4\n",
      "5\n",
      "1\n",
      "1\n",
      "6\n",
      "6\n",
      "4\n",
      "2\n",
      "3\n",
      "5\n",
      "5\n",
      "3\n",
      "1\n",
      "2\n",
      "3\n",
      "4\n",
      "3\n",
      "1\n",
      "4\n",
      "6\n",
      "1\n",
      "2\n",
      "1\n",
      "1\n",
      "4\n",
      "4\n",
      "3\n",
      "4\n",
      "6\n",
      "4\n",
      "1\n",
      "5\n",
      "3\n",
      "5\n",
      "5\n",
      "5\n",
      "3\n"
     ]
    }
   ],
   "source": [
    "import random as rand\n",
    "\n",
    "rand.seed(0)\n",
    "for i in range(100):\n",
    "    \n",
    "    to_send = data.copy()\n",
    "    max_len = len(to_send['stations'])\n",
    "    sample = rand.sample(to_send['stations'], rand.randint(1, max_len))\n",
    "    \n",
    "    print(len(sample))\n",
    "    \n",
    "    to_send['stations'] = sample\n",
    "\n",
    "    requests.post(\"http://localhost:8080\", json=to_send, headers={\"Content-Type\": \"application/json\"}, timeout=1)"
   ]
  },
  {
   "cell_type": "code",
   "execution_count": null,
   "metadata": {},
   "outputs": [],
   "source": []
  }
 ],
 "metadata": {
  "kernelspec": {
   "display_name": "Python 3.8.8 ('base')",
   "language": "python",
   "name": "python3"
  },
  "language_info": {
   "codemirror_mode": {
    "name": "ipython",
    "version": 3
   },
   "file_extension": ".py",
   "mimetype": "text/x-python",
   "name": "python",
   "nbconvert_exporter": "python",
   "pygments_lexer": "ipython3",
   "version": "3.8.8"
  },
  "orig_nbformat": 4,
  "vscode": {
   "interpreter": {
    "hash": "77916ee6c1d302d908ec7f71d884f7d344a1a5ea0ecd00dba1ddfdfbd7d381d6"
   }
  }
 },
 "nbformat": 4,
 "nbformat_minor": 2
}
